{
 "cells": [
  {
   "cell_type": "code",
   "execution_count": 1,
   "metadata": {
    "nbsphinx": "hidden"
   },
   "outputs": [
    {
     "name": "stdout",
     "output_type": "stream",
     "text": [
      "/Users/void/Documents/pypers\n"
     ]
    },
    {
     "name": "stderr",
     "output_type": "stream",
     "text": [
      "/Users/void/Documents/pypers/.venv/lib/python3.11/site-packages/IPython/core/magics/osm.py:417: UserWarning: This is now an optional IPython functionality, setting dhist requires you to install the `pickleshare` library.\n",
      "  self.shell.db['dhist'] = compress_dhist(dhist)[-100:]\n"
     ]
    },
    {
     "data": {
      "text/plain": [
       "PosixPath('/var/folders/bq/yy783k4j24zbhqhctlx__thr0000gn/T/tmp16s_3wq5/examples/segmentation')"
      ]
     },
     "execution_count": 1,
     "metadata": {},
     "output_type": "execute_result"
    }
   ],
   "source": [
    "%cd ..\n",
    "\n",
    "import pathlib\n",
    "import shutil\n",
    "import tempfile\n",
    "import uuid\n",
    "\n",
    "tempdir = tempfile.TemporaryDirectory()\n",
    "tempdir_path = pathlib.Path(tempdir.name)\n",
    "task_root_path = tempdir_path / 'examples' / 'segmentation'\n",
    "shutil.copytree('examples/segmentation', task_root_path)"
   ]
  },
  {
   "cell_type": "code",
   "execution_count": 2,
   "metadata": {
    "nbsphinx": "hidden"
   },
   "outputs": [],
   "source": [
    "from repype.textual.app import Repype\n",
    "\n",
    "app = Repype(path = task_root_path)\n",
    "ctx = app.run_test(size = (113, 24))\n",
    "pilot = await ctx.__aenter__()\n",
    "await pilot.pause(0)"
   ]
  },
  {
   "cell_type": "markdown",
   "metadata": {},
   "source": [
    "# Text-based user interface\n",
    "\n",
    "Repype comes with a built-in *text-based user interface* TUI that is based on [Textual](https://textual.textualize.io):\n",
    "\n",
    "```bash\n",
    "python -m repype.textual examples/segmentation\n",
    "```\n",
    "\n",
    "The argument `examples/segmentation` is the path of the root task directory."
   ]
  },
  {
   "cell_type": "code",
   "execution_count": 3,
   "metadata": {},
   "outputs": [
    {
     "data": {
      "text/html": [
       "<pre style=\"white-space:pre;overflow-x:auto;line-height:normal;font-family:Menlo,'DejaVu Sans Mono',consolas,'Courier New',monospace\"><span style=\"color: #e3e3e3; text-decoration-color: #e3e3e3; background-color: #282828\">        </span><span style=\"background-color: #282828\">                                     </span><span style=\"color: #e3e3e3; text-decoration-color: #e3e3e3; background-color: #282828\">repype — </span><span style=\"color: #f1f1f1; text-decoration-color: #f1f1f1; background-color: #282828\">Manage tasks</span><span style=\"background-color: #282828\">                                      </span><span style=\"color: #e3e3e3; text-decoration-color: #e3e3e3; background-color: #282828\"></span><span style=\"background-color: #282828\">         </span>\n",
       "<span style=\"color: #e2e3e3; text-decoration-color: #e2e3e3; background-color: #24292f\">▼ </span><span style=\"color: #211505; text-decoration-color: #211505; background-color: #fea62b; font-weight: bold\">Loaded tasks</span><span style=\"color: #e2e3e3; text-decoration-color: #e2e3e3; background-color: #24292f\">                                                                                                   </span>\n",
       "<span style=\"color: #fea62b; text-decoration-color: #fea62b; background-color: #24292f; font-weight: bold\">┗━━ </span><span style=\"color: #e2e3e3; text-decoration-color: #e2e3e3; background-color: #24292f\">▼ </span><span style=\"color: #e2e3e3; text-decoration-color: #e2e3e3; background-color: #24292f\">[ ] /private/var/folders/bq/yy783k4j24zbhqhctlx__thr0000gn/T/tmp16s_3wq5/examples/segmentation </span><span style=\"color: #e2e3e3; text-decoration-color: #e2e3e3; background-color: #24292f; font-weight: bold\">(pending)</span><span style=\"color: #e2e3e3; text-decoration-color: #e2e3e3; background-color: #24292f\">   </span>\n",
       "<span style=\"color: #fea62b; text-decoration-color: #fea62b; background-color: #24292f; font-weight: bold\">    ┗━━ </span><span style=\"color: #e2e3e3; text-decoration-color: #e2e3e3; background-color: #24292f\">▼ </span><span style=\"color: #e2e3e3; text-decoration-color: #e2e3e3; background-color: #24292f\">[ ] sigma=2 </span><span style=\"color: #e2e3e3; text-decoration-color: #e2e3e3; background-color: #24292f; font-weight: bold\">(pending)</span><span style=\"color: #e2e3e3; text-decoration-color: #e2e3e3; background-color: #24292f\">                                                                                  </span>\n",
       "<span style=\"color: #e2e3e3; text-decoration-color: #e2e3e3; background-color: #24292f\">                                                                                                                 </span>\n",
       "<span style=\"color: #e2e3e3; text-decoration-color: #e2e3e3; background-color: #24292f\">                                                                                                                 </span>\n",
       "<span style=\"color: #e2e3e3; text-decoration-color: #e2e3e3; background-color: #24292f\">                                                                                                                 </span>\n",
       "<span style=\"color: #e2e3e3; text-decoration-color: #e2e3e3; background-color: #24292f\">                                                                                                                 </span>\n",
       "<span style=\"color: #e2e3e3; text-decoration-color: #e2e3e3; background-color: #24292f\">                                                                                                                 </span>\n",
       "<span style=\"color: #e2e3e3; text-decoration-color: #e2e3e3; background-color: #24292f\">                                                                                                                 </span>\n",
       "<span style=\"color: #e2e3e3; text-decoration-color: #e2e3e3; background-color: #24292f\">                                                                                                                 </span>\n",
       "<span style=\"color: #e2e3e3; text-decoration-color: #e2e3e3; background-color: #24292f\">                                                                                                                 </span>\n",
       "<span style=\"color: #e2e3e3; text-decoration-color: #e2e3e3; background-color: #24292f\">                                                                                                                 </span>\n",
       "<span style=\"color: #e2e3e3; text-decoration-color: #e2e3e3; background-color: #24292f\">                                                                                                                 </span>\n",
       "<span style=\"color: #e2e3e3; text-decoration-color: #e2e3e3; background-color: #24292f\">                                                                                                                 </span>\n",
       "<span style=\"color: #e2e3e3; text-decoration-color: #e2e3e3; background-color: #24292f\">                                                                                                                 </span>\n",
       "<span style=\"color: #e2e3e3; text-decoration-color: #e2e3e3; background-color: #24292f\">                                                                                                                 </span>\n",
       "<span style=\"color: #e2e3e3; text-decoration-color: #e2e3e3; background-color: #24292f\">                                                                                                                 </span>\n",
       "<span style=\"color: #e2e3e3; text-decoration-color: #e2e3e3; background-color: #24292f\">                                                                                                                 </span>\n",
       "<span style=\"color: #e2e3e3; text-decoration-color: #e2e3e3; background-color: #24292f\">                                                                                                                 </span>\n",
       "<span style=\"color: #e2e3e3; text-decoration-color: #e2e3e3; background-color: #24292f\">                                                                                                                 </span>\n",
       "<span style=\"color: #e2e3e3; text-decoration-color: #e2e3e3; background-color: #24292f\">                                                                                                                 </span>\n",
       "<span style=\"color: #e1e1e1; text-decoration-color: #e1e1e1; background-color: #1e1e1e; font-weight: bold\">Tasks:</span><span style=\"color: #e1e1e1; text-decoration-color: #e1e1e1; background-color: #1e1e1e\"> 0 queued / 2 pending</span><span style=\"background-color: #1e1e1e\">                                                                                      </span>\n",
       "<span style=\"color: #fea62b; text-decoration-color: #fea62b; background-color: #24292f; font-weight: bold\"> a </span><span style=\"color: #a7a9ab; text-decoration-color: #a7a9ab; background-color: #24292f\">Add sub-task </span><span style=\"color: #fea62b; text-decoration-color: #fea62b; background-color: #24292f; font-weight: bold\"> e </span><span style=\"color: #a7a9ab; text-decoration-color: #a7a9ab; background-color: #24292f\">Edit task </span><span style=\"color: #fea62b; text-decoration-color: #fea62b; background-color: #24292f; font-weight: bold\"> d </span><span style=\"color: #a7a9ab; text-decoration-color: #a7a9ab; background-color: #24292f\">Delete task </span><span style=\"color: #fea62b; text-decoration-color: #fea62b; background-color: #24292f; font-weight: bold\"> r </span><span style=\"color: #a7a9ab; text-decoration-color: #a7a9ab; background-color: #24292f\">Run tasks </span><span style=\"color: #fea62b; text-decoration-color: #fea62b; background-color: #24292f; font-weight: bold\"> R </span><span style=\"color: #a7a9ab; text-decoration-color: #a7a9ab; background-color: #24292f\">Reset task </span><span style=\"color: #fea62b; text-decoration-color: #fea62b; background-color: #24292f; font-weight: bold\"> x </span><span style=\"color: #a7a9ab; text-decoration-color: #a7a9ab; background-color: #24292f\">Toggle task </span><span style=\"color: #fea62b; text-decoration-color: #fea62b; background-color: #24292f; font-weight: bold\"> q </span><span style=\"color: #a7a9ab; text-decoration-color: #a7a9ab; background-color: #24292f\">Exit </span><span style=\"color: #e2e3e3; text-decoration-color: #e2e3e3; background-color: #24292f\">                   </span></pre>\n"
      ],
      "text/plain": [
       "\u001b[1;1H\u001b[38;2;227;227;227;48;2;40;40;40m        \u001b[0m\u001b[48;2;40;40;40m                                     \u001b[0m\u001b[38;2;227;227;227;48;2;40;40;40mrepype — \u001b[0m\u001b[2;38;2;227;227;227;48;2;40;40;40mManage tasks\u001b[0m\u001b[48;2;40;40;40m                                      \u001b[0m\u001b[48;2;40;40;40m         \u001b[0m\n",
       "\u001b[2;1H\u001b[38;2;226;227;227;48;2;36;41;47m▼ \u001b[0m\u001b[1;38;2;33;21;5;48;2;254;166;43mLoaded tasks\u001b[0m\u001b[38;2;226;227;227;48;2;36;41;47m                                                                                                   \u001b[0m\n",
       "\u001b[3;1H\u001b[1;38;2;254;166;43;48;2;36;41;47m┗━━ \u001b[0m\u001b[38;2;226;227;227;48;2;36;41;47m▼ \u001b[0m\u001b[38;2;226;227;227;48;2;36;41;47m[ ] /private/var/folders/bq/yy783k4j24zbhqhctlx__thr0000gn/T/tmp16s_3wq5/examples/segmentation \u001b[0m\u001b[1;38;2;226;227;227;48;2;36;41;47m(pending)\u001b[0m\u001b[38;2;226;227;227;48;2;36;41;47m   \u001b[0m\n",
       "\u001b[4;1H\u001b[1;38;2;254;166;43;48;2;36;41;47m    ┗━━ \u001b[0m\u001b[38;2;226;227;227;48;2;36;41;47m▼ \u001b[0m\u001b[38;2;226;227;227;48;2;36;41;47m[ ] sigma=2 \u001b[0m\u001b[1;38;2;226;227;227;48;2;36;41;47m(pending)\u001b[0m\u001b[38;2;226;227;227;48;2;36;41;47m                                                                                  \u001b[0m\n",
       "\u001b[5;1H\u001b[38;2;226;227;227;48;2;36;41;47m                                                                                                                 \u001b[0m\n",
       "\u001b[6;1H\u001b[38;2;226;227;227;48;2;36;41;47m                                                                                                                 \u001b[0m\n",
       "\u001b[7;1H\u001b[38;2;226;227;227;48;2;36;41;47m                                                                                                                 \u001b[0m\n",
       "\u001b[8;1H\u001b[38;2;226;227;227;48;2;36;41;47m                                                                                                                 \u001b[0m\n",
       "\u001b[9;1H\u001b[38;2;226;227;227;48;2;36;41;47m                                                                                                                 \u001b[0m\n",
       "\u001b[10;1H\u001b[38;2;226;227;227;48;2;36;41;47m                                                                                                                 \u001b[0m\n",
       "\u001b[11;1H\u001b[38;2;226;227;227;48;2;36;41;47m                                                                                                                 \u001b[0m\n",
       "\u001b[12;1H\u001b[38;2;226;227;227;48;2;36;41;47m                                                                                                                 \u001b[0m\n",
       "\u001b[13;1H\u001b[38;2;226;227;227;48;2;36;41;47m                                                                                                                 \u001b[0m\n",
       "\u001b[14;1H\u001b[38;2;226;227;227;48;2;36;41;47m                                                                                                                 \u001b[0m\n",
       "\u001b[15;1H\u001b[38;2;226;227;227;48;2;36;41;47m                                                                                                                 \u001b[0m\n",
       "\u001b[16;1H\u001b[38;2;226;227;227;48;2;36;41;47m                                                                                                                 \u001b[0m\n",
       "\u001b[17;1H\u001b[38;2;226;227;227;48;2;36;41;47m                                                                                                                 \u001b[0m\n",
       "\u001b[18;1H\u001b[38;2;226;227;227;48;2;36;41;47m                                                                                                                 \u001b[0m\n",
       "\u001b[19;1H\u001b[38;2;226;227;227;48;2;36;41;47m                                                                                                                 \u001b[0m\n",
       "\u001b[20;1H\u001b[38;2;226;227;227;48;2;36;41;47m                                                                                                                 \u001b[0m\n",
       "\u001b[21;1H\u001b[38;2;226;227;227;48;2;36;41;47m                                                                                                                 \u001b[0m\n",
       "\u001b[22;1H\u001b[38;2;226;227;227;48;2;36;41;47m                                                                                                                 \u001b[0m\n",
       "\u001b[23;1H\u001b[1;38;2;225;225;225;48;2;30;30;30mTasks:\u001b[0m\u001b[38;2;225;225;225;48;2;30;30;30m 0 queued / 2 pending\u001b[0m\u001b[48;2;30;30;30m                                                                                      \u001b[0m\n",
       "\u001b[24;1H\u001b[1;38;2;254;166;43;48;2;36;41;47m a \u001b[0m\u001b[38;2;167;169;171;48;2;36;41;47mAdd sub-task \u001b[0m\u001b[1;38;2;254;166;43;48;2;36;41;47m e \u001b[0m\u001b[38;2;167;169;171;48;2;36;41;47mEdit task \u001b[0m\u001b[1;38;2;254;166;43;48;2;36;41;47m d \u001b[0m\u001b[38;2;167;169;171;48;2;36;41;47mDelete task \u001b[0m\u001b[1;38;2;254;166;43;48;2;36;41;47m r \u001b[0m\u001b[38;2;167;169;171;48;2;36;41;47mRun tasks \u001b[0m\u001b[1;38;2;254;166;43;48;2;36;41;47m R \u001b[0m\u001b[38;2;167;169;171;48;2;36;41;47mReset task \u001b[0m\u001b[1;38;2;254;166;43;48;2;36;41;47m x \u001b[0m\u001b[38;2;167;169;171;48;2;36;41;47mToggle task \u001b[0m\u001b[1;38;2;254;166;43;48;2;36;41;47m q \u001b[0m\u001b[38;2;167;169;171;48;2;36;41;47mExit \u001b[0m\u001b[38;2;226;227;227;48;2;36;41;47m                   \u001b[0m"
      ]
     },
     "metadata": {},
     "output_type": "display_data"
    }
   ],
   "source": [
    "app.save_screenshot(tempdir_path / f'{uuid.uuid1()}.svg');"
   ]
  },
  {
   "cell_type": "markdown",
   "metadata": {},
   "source": [
    "The TUI can be navigated by using the keyboard, and it is also possible to use the mouse, if the terminal emulator supports that:"
   ]
  },
  {
   "cell_type": "code",
   "execution_count": 4,
   "metadata": {},
   "outputs": [
    {
     "data": {
      "text/html": [
       "<pre style=\"white-space:pre;overflow-x:auto;line-height:normal;font-family:Menlo,'DejaVu Sans Mono',consolas,'Courier New',monospace\"><span style=\"color: #e3e3e3; text-decoration-color: #e3e3e3; background-color: #282828\">        </span><span style=\"background-color: #282828\">                                     </span><span style=\"color: #e3e3e3; text-decoration-color: #e3e3e3; background-color: #282828\">repype — </span><span style=\"color: #f1f1f1; text-decoration-color: #f1f1f1; background-color: #282828\">Manage tasks</span><span style=\"background-color: #282828\">                                      </span><span style=\"color: #e3e3e3; text-decoration-color: #e3e3e3; background-color: #282828\"></span><span style=\"background-color: #282828\">         </span>\n",
       "<span style=\"color: #e2e3e3; text-decoration-color: #e2e3e3; background-color: #24292f\">▼ </span><span style=\"color: #e2e3e3; text-decoration-color: #e2e3e3; background-color: #24292f\">Loaded tasks</span><span style=\"color: #e2e3e3; text-decoration-color: #e2e3e3; background-color: #24292f\">                                                                                                   </span>\n",
       "<span style=\"color: #008139; text-decoration-color: #008139; background-color: #24292f\">└── </span><span style=\"color: #e2e3e3; text-decoration-color: #e2e3e3; background-color: #24292f\">▼ </span><span style=\"color: #211505; text-decoration-color: #211505; background-color: #fea62b; font-weight: bold\">[x] /private/var/folders/bq/yy783k4j24zbhqhctlx__thr0000gn/T/tmp16s_3wq5/examples/segmentation (pending)</span><span style=\"color: #e2e3e3; text-decoration-color: #e2e3e3; background-color: #24292f\">   </span>\n",
       "<span style=\"color: #008139; text-decoration-color: #008139; background-color: #24292f\">    </span><span style=\"color: #fea62b; text-decoration-color: #fea62b; background-color: #24292f; font-weight: bold\">┗━━ </span><span style=\"color: #e2e3e3; text-decoration-color: #e2e3e3; background-color: #24292f\">▼ </span><span style=\"color: #e2e3e3; text-decoration-color: #e2e3e3; background-color: #24292f\">[ ] sigma=2 </span><span style=\"color: #e2e3e3; text-decoration-color: #e2e3e3; background-color: #24292f; font-weight: bold\">(pending)</span><span style=\"color: #e2e3e3; text-decoration-color: #e2e3e3; background-color: #24292f\">                                                                                  </span>\n",
       "<span style=\"color: #e2e3e3; text-decoration-color: #e2e3e3; background-color: #24292f\">                                                                                                                 </span>\n",
       "<span style=\"color: #e2e3e3; text-decoration-color: #e2e3e3; background-color: #24292f\">                                                                                                                 </span>\n",
       "<span style=\"color: #e2e3e3; text-decoration-color: #e2e3e3; background-color: #24292f\">                                                                                                                 </span>\n",
       "<span style=\"color: #e2e3e3; text-decoration-color: #e2e3e3; background-color: #24292f\">                                                                                                                 </span>\n",
       "<span style=\"color: #e2e3e3; text-decoration-color: #e2e3e3; background-color: #24292f\">                                                                                                                 </span>\n",
       "<span style=\"color: #e2e3e3; text-decoration-color: #e2e3e3; background-color: #24292f\">                                                                                                                 </span>\n",
       "<span style=\"color: #e2e3e3; text-decoration-color: #e2e3e3; background-color: #24292f\">                                                                                                                 </span>\n",
       "<span style=\"color: #e2e3e3; text-decoration-color: #e2e3e3; background-color: #24292f\">                                                                                                                 </span>\n",
       "<span style=\"color: #e2e3e3; text-decoration-color: #e2e3e3; background-color: #24292f\">                                                                                                                 </span>\n",
       "<span style=\"color: #e2e3e3; text-decoration-color: #e2e3e3; background-color: #24292f\">                                                                                                                 </span>\n",
       "<span style=\"color: #e2e3e3; text-decoration-color: #e2e3e3; background-color: #24292f\">                                                                                                                 </span>\n",
       "<span style=\"color: #e2e3e3; text-decoration-color: #e2e3e3; background-color: #24292f\">                                                                                                                 </span>\n",
       "<span style=\"color: #e2e3e3; text-decoration-color: #e2e3e3; background-color: #24292f\">                                                                                                                 </span>\n",
       "<span style=\"color: #e2e3e3; text-decoration-color: #e2e3e3; background-color: #24292f\">                                                                                                                 </span>\n",
       "<span style=\"color: #e2e3e3; text-decoration-color: #e2e3e3; background-color: #24292f\">                                                                                                                 </span>\n",
       "<span style=\"color: #e2e3e3; text-decoration-color: #e2e3e3; background-color: #24292f\">                                                                                                                 </span>\n",
       "<span style=\"color: #e2e3e3; text-decoration-color: #e2e3e3; background-color: #24292f\">                                                                                                                 </span>\n",
       "<span style=\"color: #e2e3e3; text-decoration-color: #e2e3e3; background-color: #24292f\">                                                                                                                 </span>\n",
       "<span style=\"color: #e1e1e1; text-decoration-color: #e1e1e1; background-color: #1e1e1e; font-weight: bold\">Tasks:</span><span style=\"color: #e1e1e1; text-decoration-color: #e1e1e1; background-color: #1e1e1e\"> 1 queued / 2 pending</span><span style=\"background-color: #1e1e1e\">                                                                                      </span>\n",
       "<span style=\"color: #fea62b; text-decoration-color: #fea62b; background-color: #24292f; font-weight: bold\"> a </span><span style=\"color: #a7a9ab; text-decoration-color: #a7a9ab; background-color: #24292f\">Add sub-task </span><span style=\"color: #fea62b; text-decoration-color: #fea62b; background-color: #24292f; font-weight: bold\"> e </span><span style=\"color: #a7a9ab; text-decoration-color: #a7a9ab; background-color: #24292f\">Edit task </span><span style=\"color: #fea62b; text-decoration-color: #fea62b; background-color: #24292f; font-weight: bold\"> d </span><span style=\"color: #a7a9ab; text-decoration-color: #a7a9ab; background-color: #24292f\">Delete task </span><span style=\"color: #fea62b; text-decoration-color: #fea62b; background-color: #24292f; font-weight: bold\"> r </span><span style=\"color: #a7a9ab; text-decoration-color: #a7a9ab; background-color: #24292f\">Run tasks </span><span style=\"color: #fea62b; text-decoration-color: #fea62b; background-color: #24292f; font-weight: bold\"> R </span><span style=\"color: #a7a9ab; text-decoration-color: #a7a9ab; background-color: #24292f\">Reset task </span><span style=\"color: #fea62b; text-decoration-color: #fea62b; background-color: #24292f; font-weight: bold\"> x </span><span style=\"color: #a7a9ab; text-decoration-color: #a7a9ab; background-color: #24292f\">Toggle task </span><span style=\"color: #fea62b; text-decoration-color: #fea62b; background-color: #24292f; font-weight: bold\"> q </span><span style=\"color: #a7a9ab; text-decoration-color: #a7a9ab; background-color: #24292f\">Exit </span><span style=\"color: #e2e3e3; text-decoration-color: #e2e3e3; background-color: #24292f\">                   </span></pre>\n"
      ],
      "text/plain": [
       "\u001b[1;1H\u001b[38;2;227;227;227;48;2;40;40;40m        \u001b[0m\u001b[48;2;40;40;40m                                     \u001b[0m\u001b[38;2;227;227;227;48;2;40;40;40mrepype — \u001b[0m\u001b[2;38;2;227;227;227;48;2;40;40;40mManage tasks\u001b[0m\u001b[48;2;40;40;40m                                      \u001b[0m\u001b[48;2;40;40;40m         \u001b[0m\n",
       "\u001b[2;1H\u001b[38;2;226;227;227;48;2;36;41;47m▼ \u001b[0m\u001b[38;2;226;227;227;48;2;36;41;47mLoaded tasks\u001b[0m\u001b[38;2;226;227;227;48;2;36;41;47m                                                                                                   \u001b[0m\n",
       "\u001b[3;1H\u001b[38;2;0;129;57;48;2;36;41;47m└── \u001b[0m\u001b[38;2;226;227;227;48;2;36;41;47m▼ \u001b[0m\u001b[1;38;2;33;21;5;48;2;254;166;43m[x] /private/var/folders/bq/yy783k4j24zbhqhctlx__thr0000gn/T/tmp16s_3wq5/examples/segmentation (pending)\u001b[0m\u001b[38;2;226;227;227;48;2;36;41;47m   \u001b[0m\n",
       "\u001b[4;1H\u001b[38;2;0;129;57;48;2;36;41;47m    \u001b[0m\u001b[1;38;2;254;166;43;48;2;36;41;47m┗━━ \u001b[0m\u001b[38;2;226;227;227;48;2;36;41;47m▼ \u001b[0m\u001b[38;2;226;227;227;48;2;36;41;47m[ ] sigma=2 \u001b[0m\u001b[1;38;2;226;227;227;48;2;36;41;47m(pending)\u001b[0m\u001b[38;2;226;227;227;48;2;36;41;47m                                                                                  \u001b[0m\n",
       "\u001b[5;1H\u001b[38;2;226;227;227;48;2;36;41;47m                                                                                                                 \u001b[0m\n",
       "\u001b[6;1H\u001b[38;2;226;227;227;48;2;36;41;47m                                                                                                                 \u001b[0m\n",
       "\u001b[7;1H\u001b[38;2;226;227;227;48;2;36;41;47m                                                                                                                 \u001b[0m\n",
       "\u001b[8;1H\u001b[38;2;226;227;227;48;2;36;41;47m                                                                                                                 \u001b[0m\n",
       "\u001b[9;1H\u001b[38;2;226;227;227;48;2;36;41;47m                                                                                                                 \u001b[0m\n",
       "\u001b[10;1H\u001b[38;2;226;227;227;48;2;36;41;47m                                                                                                                 \u001b[0m\n",
       "\u001b[11;1H\u001b[38;2;226;227;227;48;2;36;41;47m                                                                                                                 \u001b[0m\n",
       "\u001b[12;1H\u001b[38;2;226;227;227;48;2;36;41;47m                                                                                                                 \u001b[0m\n",
       "\u001b[13;1H\u001b[38;2;226;227;227;48;2;36;41;47m                                                                                                                 \u001b[0m\n",
       "\u001b[14;1H\u001b[38;2;226;227;227;48;2;36;41;47m                                                                                                                 \u001b[0m\n",
       "\u001b[15;1H\u001b[38;2;226;227;227;48;2;36;41;47m                                                                                                                 \u001b[0m\n",
       "\u001b[16;1H\u001b[38;2;226;227;227;48;2;36;41;47m                                                                                                                 \u001b[0m\n",
       "\u001b[17;1H\u001b[38;2;226;227;227;48;2;36;41;47m                                                                                                                 \u001b[0m\n",
       "\u001b[18;1H\u001b[38;2;226;227;227;48;2;36;41;47m                                                                                                                 \u001b[0m\n",
       "\u001b[19;1H\u001b[38;2;226;227;227;48;2;36;41;47m                                                                                                                 \u001b[0m\n",
       "\u001b[20;1H\u001b[38;2;226;227;227;48;2;36;41;47m                                                                                                                 \u001b[0m\n",
       "\u001b[21;1H\u001b[38;2;226;227;227;48;2;36;41;47m                                                                                                                 \u001b[0m\n",
       "\u001b[22;1H\u001b[38;2;226;227;227;48;2;36;41;47m                                                                                                                 \u001b[0m\n",
       "\u001b[23;1H\u001b[1;38;2;225;225;225;48;2;30;30;30mTasks:\u001b[0m\u001b[38;2;225;225;225;48;2;30;30;30m 1 queued / 2 pending\u001b[0m\u001b[48;2;30;30;30m                                                                                      \u001b[0m\n",
       "\u001b[24;1H\u001b[1;38;2;254;166;43;48;2;36;41;47m a \u001b[0m\u001b[38;2;167;169;171;48;2;36;41;47mAdd sub-task \u001b[0m\u001b[1;38;2;254;166;43;48;2;36;41;47m e \u001b[0m\u001b[38;2;167;169;171;48;2;36;41;47mEdit task \u001b[0m\u001b[1;38;2;254;166;43;48;2;36;41;47m d \u001b[0m\u001b[38;2;167;169;171;48;2;36;41;47mDelete task \u001b[0m\u001b[1;38;2;254;166;43;48;2;36;41;47m r \u001b[0m\u001b[38;2;167;169;171;48;2;36;41;47mRun tasks \u001b[0m\u001b[1;38;2;254;166;43;48;2;36;41;47m R \u001b[0m\u001b[38;2;167;169;171;48;2;36;41;47mReset task \u001b[0m\u001b[1;38;2;254;166;43;48;2;36;41;47m x \u001b[0m\u001b[38;2;167;169;171;48;2;36;41;47mToggle task \u001b[0m\u001b[1;38;2;254;166;43;48;2;36;41;47m q \u001b[0m\u001b[38;2;167;169;171;48;2;36;41;47mExit \u001b[0m\u001b[38;2;226;227;227;48;2;36;41;47m                   \u001b[0m"
      ]
     },
     "metadata": {},
     "output_type": "display_data"
    }
   ],
   "source": [
    "await pilot.press('down', 'x')\n",
    "await pilot.pause(0)\n",
    "app.save_screenshot(tempdir_path / f'{uuid.uuid1()}.svg');"
   ]
  },
  {
   "cell_type": "code",
   "execution_count": 5,
   "metadata": {},
   "outputs": [
    {
     "name": "stdout",
     "output_type": "stream",
     "text": [
      "RunScreen.handle_new_status status={'info': 'enter', 'task': '/private/var/folders/bq/yy783k4j24zbhqhctlx__thr0000gn/T/tmp16s_3wq5/examples/segmentation', 'step': 0, 'step_count': 1} intermediate=False\n",
      "RunScreen.handle_new_status status={'info': 'start', 'task': '/private/var/folders/bq/yy783k4j24zbhqhctlx__thr0000gn/T/tmp16s_3wq5/examples/segmentation', 'pickup': None, 'first_stage': None} intermediate=False\n",
      "RunScreen.handle_new_status status={'info': 'start-stage', 'stage': 'unzip'} intermediate=True\n",
      "RunScreen.handle_new_status status={'info': 'start-stage', 'stage': 'segmentation'} intermediate=True\n",
      "RunScreen.handle_new_status status={'info': 'start-stage', 'stage': 'output'} intermediate=True\n",
      "RunScreen.handle_new_status status={'info': 'completed', 'task': '/private/var/folders/bq/yy783k4j24zbhqhctlx__thr0000gn/T/tmp16s_3wq5/examples/segmentation'} intermediate=False\n"
     ]
    },
    {
     "data": {
      "text/html": [
       "<pre style=\"white-space:pre;overflow-x:auto;line-height:normal;font-family:Menlo,'DejaVu Sans Mono',consolas,'Courier New',monospace\"><span style=\"color: #e3e3e3; text-decoration-color: #e3e3e3; background-color: #282828\">        </span><span style=\"background-color: #282828\">                                      </span><span style=\"color: #e3e3e3; text-decoration-color: #e3e3e3; background-color: #282828\">repype — </span><span style=\"color: #f1f1f1; text-decoration-color: #f1f1f1; background-color: #282828\">Run tasks</span><span style=\"background-color: #282828\">                                        </span><span style=\"color: #e3e3e3; text-decoration-color: #e3e3e3; background-color: #282828\"></span><span style=\"background-color: #282828\">         </span>\n",
       "<span style=\"color: #121212; text-decoration-color: #121212; background-color: #262626\">▔▔▔▔▔▔▔▔▔▔▔▔▔▔▔▔▔▔▔▔▔▔▔▔▔▔▔▔▔▔▔▔▔▔▔▔▔▔▔▔▔▔▔▔▔▔▔▔▔▔▔▔▔▔▔▔▔▔▔▔▔▔▔▔▔▔▔▔▔▔▔▔▔▔▔▔▔▔▔▔▔▔▔▔▔▔▔▔▔▔▔▔▔▔▔▔▔▔▔▔▔▔▔▔▔▔▔▔▔▔▔▔▔</span>\n",
       "<span style=\"background-color: #262626\"> </span><span style=\"background-color: #0178d4\"> </span><span style=\"color: #ddedf9; text-decoration-color: #ddedf9; background-color: #0178d4\">▼ /private/var/folders/bq/yy783k4j24zbhqhctlx__thr0000gn/T/tmp16s_3wq5/examples/segmentation</span><span style=\"background-color: #0178d4\"> </span><span style=\"color: #e2e2e2; text-decoration-color: #e2e2e2; background-color: #262626\">                  </span>\n",
       "<span style=\"background-color: #262626\">                                                                                                                 </span>\n",
       "<span style=\"background-color: #262626\">    </span><span style=\"color: #e2e2e2; text-decoration-color: #e2e2e2; background-color: #262626\">                                                                                                             </span>\n",
       "<span style=\"background-color: #262626\">    </span><span style=\"color: #e2e2e2; text-decoration-color: #e2e2e2; background-color: #262626\">Starting from scratch                                                                                        </span>\n",
       "<span style=\"background-color: #262626\">    </span><span style=\"color: #e2e2e2; text-decoration-color: #e2e2e2; background-color: #262626\">                                                                                                             </span>\n",
       "<span style=\"background-color: #262626\">    </span><span style=\"color: #00ffff; text-decoration-color: #00ffff; background-color: #262626; font-weight: bold\">(1/1)</span><span style=\"color: #00ffff; text-decoration-color: #00ffff; background-color: #262626\"> Processing: B2--W00026--P00001--Z00000--T00000--dapi.tif</span><span style=\"color: #e2e2e2; text-decoration-color: #e2e2e2; background-color: #262626\">                                               </span>\n",
       "<span style=\"background-color: #262626\">    </span><span style=\"color: #e2e2e2; text-decoration-color: #e2e2e2; background-color: #262626\">Starting stage: download                                                                                     </span>\n",
       "<span style=\"background-color: #262626\">    </span><span style=\"color: #393939; text-decoration-color: #393939; background-color: #262626\">━━━━━━━━━━━━━━━━━━━━━━━╸</span><span style=\"color: #b93c5b; text-decoration-color: #b93c5b; background-color: #262626\">━━━━━━━━</span><span style=\"background-color: #262626\">  </span><span style=\"color: #e2e2e2; text-decoration-color: #e2e2e2; background-color: #262626\">--%</span><span style=\"background-color: #262626\"> </span><span style=\"color: #e2e2e2; text-decoration-color: #e2e2e2; background-color: #262626\">--:--:--                                                               </span>\n",
       "<span style=\"background-color: #262626\">                                                                                                                 </span>\n",
       "<span style=\"color: #e1e1e1; text-decoration-color: #e1e1e1; background-color: #1e1e1e\">                                                                                                                 </span>\n",
       "<span style=\"color: #e1e1e1; text-decoration-color: #e1e1e1; background-color: #1e1e1e\">                                                                                                                 </span>\n",
       "<span style=\"color: #e1e1e1; text-decoration-color: #e1e1e1; background-color: #1e1e1e\">                                                                                                                 </span>\n",
       "<span style=\"color: #e1e1e1; text-decoration-color: #e1e1e1; background-color: #1e1e1e\">                                                                                                                 </span>\n",
       "<span style=\"color: #e1e1e1; text-decoration-color: #e1e1e1; background-color: #1e1e1e\">                                                                                                                 </span>\n",
       "<span style=\"color: #e1e1e1; text-decoration-color: #e1e1e1; background-color: #1e1e1e\">                                                                                                                 </span>\n",
       "<span style=\"color: #e1e1e1; text-decoration-color: #e1e1e1; background-color: #1e1e1e\">                                                                                                                 </span>\n",
       "<span style=\"color: #e1e1e1; text-decoration-color: #e1e1e1; background-color: #1e1e1e\">                                                                                                                 </span>\n",
       "<span style=\"color: #e1e1e1; text-decoration-color: #e1e1e1; background-color: #1e1e1e\">                                                                                                                 </span>\n",
       "<span style=\"color: #e1e1e1; text-decoration-color: #e1e1e1; background-color: #1e1e1e\">                                                                                                                 </span>\n",
       "<span style=\"color: #e1e1e1; text-decoration-color: #e1e1e1; background-color: #1e1e1e\">                                                                                                                 </span>\n",
       "<span style=\"color: #e1e1e1; text-decoration-color: #e1e1e1; background-color: #1e1e1e\">                                                                                                                 </span>\n",
       "<span style=\"color: #fea62b; text-decoration-color: #fea62b; background-color: #24292f; font-weight: bold\"> ^c </span><span style=\"color: #a7a9ab; text-decoration-color: #a7a9ab; background-color: #24292f\">Cancel </span><span style=\"color: #fea62b; text-decoration-color: #fea62b; background-color: #24292f; font-weight: bold\"> ESC </span><span style=\"color: #a7a9ab; text-decoration-color: #a7a9ab; background-color: #24292f\">Close </span><span style=\"color: #e2e3e3; text-decoration-color: #e2e3e3; background-color: #24292f\">                                                                                           </span></pre>\n"
      ],
      "text/plain": [
       "\u001b[1;1H\u001b[38;2;227;227;227;48;2;40;40;40m        \u001b[0m\u001b[48;2;40;40;40m                                      \u001b[0m\u001b[38;2;227;227;227;48;2;40;40;40mrepype — \u001b[0m\u001b[2;38;2;227;227;227;48;2;40;40;40mRun tasks\u001b[0m\u001b[48;2;40;40;40m                                        \u001b[0m\u001b[48;2;40;40;40m         \u001b[0m\n",
       "\u001b[2;1H\u001b[38;2;18;18;18;48;2;38;38;38m▔▔▔▔▔▔▔▔▔▔▔▔▔▔▔▔▔▔▔▔▔▔▔▔▔▔▔▔▔▔▔▔▔▔▔▔▔▔▔▔▔▔▔▔▔▔▔▔▔▔▔▔▔▔▔▔▔▔▔▔▔▔▔▔▔▔▔▔▔▔▔▔▔▔▔▔▔▔▔▔▔▔▔▔▔▔▔▔▔▔▔▔▔▔▔▔▔▔▔▔▔▔▔▔▔▔▔▔▔▔▔▔▔\u001b[0m\n",
       "\u001b[3;1H\u001b[48;2;38;38;38m \u001b[0m\u001b[48;2;1;120;212m \u001b[0m\u001b[38;2;221;237;249;48;2;1;120;212m▼ /private/var/folders/bq/yy783k4j24zbhqhctlx__thr0000gn/T/tmp16s_3wq5/examples/segmentation\u001b[0m\u001b[48;2;1;120;212m \u001b[0m\u001b[38;2;226;226;226;48;2;38;38;38m                  \u001b[0m\n",
       "\u001b[4;1H\u001b[48;2;38;38;38m                                                                                                                 \u001b[0m\n",
       "\u001b[5;1H\u001b[48;2;38;38;38m    \u001b[0m\u001b[38;2;226;226;226;48;2;38;38;38m                                                                                                             \u001b[0m\n",
       "\u001b[6;1H\u001b[48;2;38;38;38m    \u001b[0m\u001b[38;2;226;226;226;48;2;38;38;38mStarting from scratch                                                                                        \u001b[0m\n",
       "\u001b[7;1H\u001b[48;2;38;38;38m    \u001b[0m\u001b[38;2;226;226;226;48;2;38;38;38m                                                                                                             \u001b[0m\n",
       "\u001b[8;1H\u001b[48;2;38;38;38m    \u001b[0m\u001b[1;38;2;0;255;255;48;2;38;38;38m(1/1)\u001b[0m\u001b[38;2;0;255;255;48;2;38;38;38m Processing: B2--W00026--P00001--Z00000--T00000--dapi.tif\u001b[0m\u001b[38;2;226;226;226;48;2;38;38;38m                                               \u001b[0m\n",
       "\u001b[9;1H\u001b[48;2;38;38;38m    \u001b[0m\u001b[38;2;226;226;226;48;2;38;38;38mStarting stage: download                                                                                     \u001b[0m\n",
       "\u001b[10;1H\u001b[48;2;38;38;38m    \u001b[0m\u001b[38;2;57;57;57;48;2;38;38;38m━━━━━━━━━━━━━━━━━━━━━━━╸\u001b[0m\u001b[38;2;185;60;91;48;2;38;38;38m━━━━━━━━\u001b[0m\u001b[48;2;38;38;38m  \u001b[0m\u001b[38;2;226;226;226;48;2;38;38;38m--%\u001b[0m\u001b[48;2;38;38;38m \u001b[0m\u001b[38;2;226;226;226;48;2;38;38;38m--:--:--                                                               \u001b[0m\n",
       "\u001b[11;1H\u001b[48;2;38;38;38m                                                                                                                 \u001b[0m\n",
       "\u001b[12;1H\u001b[38;2;225;225;225;48;2;30;30;30m                                                                                                                 \u001b[0m\n",
       "\u001b[13;1H\u001b[38;2;225;225;225;48;2;30;30;30m                                                                                                                 \u001b[0m\n",
       "\u001b[14;1H\u001b[38;2;225;225;225;48;2;30;30;30m                                                                                                                 \u001b[0m\n",
       "\u001b[15;1H\u001b[38;2;225;225;225;48;2;30;30;30m                                                                                                                 \u001b[0m\n",
       "\u001b[16;1H\u001b[38;2;225;225;225;48;2;30;30;30m                                                                                                                 \u001b[0m\n",
       "\u001b[17;1H\u001b[38;2;225;225;225;48;2;30;30;30m                                                                                                                 \u001b[0m\n",
       "\u001b[18;1H\u001b[38;2;225;225;225;48;2;30;30;30m                                                                                                                 \u001b[0m\n",
       "\u001b[19;1H\u001b[38;2;225;225;225;48;2;30;30;30m                                                                                                                 \u001b[0m\n",
       "\u001b[20;1H\u001b[38;2;225;225;225;48;2;30;30;30m                                                                                                                 \u001b[0m\n",
       "\u001b[21;1H\u001b[38;2;225;225;225;48;2;30;30;30m                                                                                                                 \u001b[0m\n",
       "\u001b[22;1H\u001b[38;2;225;225;225;48;2;30;30;30m                                                                                                                 \u001b[0m\n",
       "\u001b[23;1H\u001b[38;2;225;225;225;48;2;30;30;30m                                                                                                                 \u001b[0m\n",
       "\u001b[24;1H\u001b[1;38;2;254;166;43;48;2;36;41;47m ^c \u001b[0m\u001b[38;2;167;169;171;48;2;36;41;47mCancel \u001b[0m\u001b[1;38;2;254;166;43;48;2;36;41;47m ESC \u001b[0m\u001b[38;2;167;169;171;48;2;36;41;47mClose \u001b[0m\u001b[38;2;226;227;227;48;2;36;41;47m                                                                                           \u001b[0m"
      ]
     },
     "metadata": {},
     "output_type": "display_data"
    }
   ],
   "source": [
    "await pilot.press('r')\n",
    "await pilot.pause(1)\n",
    "app.save_screenshot(tempdir_path / f'{uuid.uuid1()}.svg');"
   ]
  },
  {
   "cell_type": "code",
   "execution_count": 6,
   "metadata": {},
   "outputs": [
    {
     "data": {
      "text/html": [
       "<pre style=\"white-space:pre;overflow-x:auto;line-height:normal;font-family:Menlo,'DejaVu Sans Mono',consolas,'Courier New',monospace\"><span style=\"color: #e3e3e3; text-decoration-color: #e3e3e3; background-color: #282828\">        </span><span style=\"background-color: #282828\">                                      </span><span style=\"color: #e3e3e3; text-decoration-color: #e3e3e3; background-color: #282828\">repype — </span><span style=\"color: #f1f1f1; text-decoration-color: #f1f1f1; background-color: #282828\">Run tasks</span><span style=\"background-color: #282828\">                                        </span><span style=\"color: #e3e3e3; text-decoration-color: #e3e3e3; background-color: #282828\"></span><span style=\"background-color: #282828\">         </span>\n",
       "<span style=\"color: #121212; text-decoration-color: #121212; background-color: #262626\">▔▔▔▔▔▔▔▔▔▔▔▔▔▔▔▔▔▔▔▔▔▔▔▔▔▔▔▔▔▔▔▔▔▔▔▔▔▔▔▔▔▔▔▔▔▔▔▔▔▔▔▔▔▔▔▔▔▔▔▔▔▔▔▔▔▔▔▔▔▔▔▔▔▔▔▔▔▔▔▔▔▔▔▔▔▔▔▔▔▔▔▔▔▔▔▔▔▔▔▔▔▔▔▔▔▔▔▔▔▔▔▔▔</span>\n",
       "<span style=\"background-color: #262626\"> </span><span style=\"background-color: #0178d4\"> </span><span style=\"color: #ddedf9; text-decoration-color: #ddedf9; background-color: #0178d4\">▼ /private/var/folders/bq/yy783k4j24zbhqhctlx__thr0000gn/T/tmp16s_3wq5/examples/segmentation (done)</span><span style=\"background-color: #0178d4\"> </span><span style=\"color: #e2e2e2; text-decoration-color: #e2e2e2; background-color: #262626\">           </span>\n",
       "<span style=\"background-color: #262626\">                                                                                                                 </span>\n",
       "<span style=\"background-color: #262626\">    </span><span style=\"color: #e2e2e2; text-decoration-color: #e2e2e2; background-color: #262626\">                                                                                                             </span>\n",
       "<span style=\"background-color: #262626\">    </span><span style=\"color: #e2e2e2; text-decoration-color: #e2e2e2; background-color: #262626\">Starting from scratch                                                                                        </span>\n",
       "<span style=\"background-color: #262626\">    </span><span style=\"color: #e2e2e2; text-decoration-color: #e2e2e2; background-color: #262626\">                                                                                                             </span>\n",
       "<span style=\"background-color: #262626\">    </span><span style=\"color: #00ffff; text-decoration-color: #00ffff; background-color: #262626; font-weight: bold\">(1/1)</span><span style=\"color: #00ffff; text-decoration-color: #00ffff; background-color: #262626\"> Processing: B2--W00026--P00001--Z00000--T00000--dapi.tif</span><span style=\"color: #e2e2e2; text-decoration-color: #e2e2e2; background-color: #262626\">                                               </span>\n",
       "<span style=\"background-color: #262626\">    </span><span style=\"color: #e2e2e2; text-decoration-color: #e2e2e2; background-color: #262626\">                                                                                                             </span>\n",
       "<span style=\"background-color: #262626\">    </span><span style=\"color: #ddeedd; text-decoration-color: #ddeedd; background-color: #008000\">Results have been stored</span><span style=\"color: #e2e2e2; text-decoration-color: #e2e2e2; background-color: #262626\">                                                                                     </span>\n",
       "<span style=\"background-color: #262626\">                                                                                                                 </span>\n",
       "<span style=\"color: #e1e1e1; text-decoration-color: #e1e1e1; background-color: #1e1e1e\">                                                                                                                 </span>\n",
       "<span style=\"color: #e1e1e1; text-decoration-color: #e1e1e1; background-color: #1e1e1e\">                                                                                                                 </span>\n",
       "<span style=\"color: #e1e1e1; text-decoration-color: #e1e1e1; background-color: #1e1e1e\">                                                                                                                 </span>\n",
       "<span style=\"color: #e1e1e1; text-decoration-color: #e1e1e1; background-color: #1e1e1e\">                                                                                                                 </span>\n",
       "<span style=\"color: #e1e1e1; text-decoration-color: #e1e1e1; background-color: #1e1e1e\">                                                                                                                 </span>\n",
       "<span style=\"color: #e1e1e1; text-decoration-color: #e1e1e1; background-color: #1e1e1e\">                                                                                                                 </span>\n",
       "<span style=\"color: #e1e1e1; text-decoration-color: #e1e1e1; background-color: #1e1e1e\">                                                                                                                 </span>\n",
       "<span style=\"color: #e1e1e1; text-decoration-color: #e1e1e1; background-color: #1e1e1e\">                                                                                                                 </span>\n",
       "<span style=\"color: #e1e1e1; text-decoration-color: #e1e1e1; background-color: #1e1e1e\">                                                                                                                 </span>\n",
       "<span style=\"color: #e1e1e1; text-decoration-color: #e1e1e1; background-color: #1e1e1e\">                                                                                                                 </span>\n",
       "<span style=\"color: #e1e1e1; text-decoration-color: #e1e1e1; background-color: #1e1e1e\">                                                                                                                 </span>\n",
       "<span style=\"color: #e1e1e1; text-decoration-color: #e1e1e1; background-color: #1e1e1e\">                                                                                                                 </span>\n",
       "<span style=\"color: #fea62b; text-decoration-color: #fea62b; background-color: #24292f; font-weight: bold\"> ^c </span><span style=\"color: #a7a9ab; text-decoration-color: #a7a9ab; background-color: #24292f\">Cancel </span><span style=\"color: #fea62b; text-decoration-color: #fea62b; background-color: #24292f; font-weight: bold\"> ESC </span><span style=\"color: #a7a9ab; text-decoration-color: #a7a9ab; background-color: #24292f\">Close </span><span style=\"color: #e2e3e3; text-decoration-color: #e2e3e3; background-color: #24292f\">                                                                                           </span></pre>\n"
      ],
      "text/plain": [
       "\u001b[1;1H\u001b[38;2;227;227;227;48;2;40;40;40m        \u001b[0m\u001b[48;2;40;40;40m                                      \u001b[0m\u001b[38;2;227;227;227;48;2;40;40;40mrepype — \u001b[0m\u001b[2;38;2;227;227;227;48;2;40;40;40mRun tasks\u001b[0m\u001b[48;2;40;40;40m                                        \u001b[0m\u001b[48;2;40;40;40m         \u001b[0m\n",
       "\u001b[2;1H\u001b[38;2;18;18;18;48;2;38;38;38m▔▔▔▔▔▔▔▔▔▔▔▔▔▔▔▔▔▔▔▔▔▔▔▔▔▔▔▔▔▔▔▔▔▔▔▔▔▔▔▔▔▔▔▔▔▔▔▔▔▔▔▔▔▔▔▔▔▔▔▔▔▔▔▔▔▔▔▔▔▔▔▔▔▔▔▔▔▔▔▔▔▔▔▔▔▔▔▔▔▔▔▔▔▔▔▔▔▔▔▔▔▔▔▔▔▔▔▔▔▔▔▔▔\u001b[0m\n",
       "\u001b[3;1H\u001b[48;2;38;38;38m \u001b[0m\u001b[48;2;1;120;212m \u001b[0m\u001b[38;2;221;237;249;48;2;1;120;212m▼ /private/var/folders/bq/yy783k4j24zbhqhctlx__thr0000gn/T/tmp16s_3wq5/examples/segmentation (done)\u001b[0m\u001b[48;2;1;120;212m \u001b[0m\u001b[38;2;226;226;226;48;2;38;38;38m           \u001b[0m\n",
       "\u001b[4;1H\u001b[48;2;38;38;38m                                                                                                                 \u001b[0m\n",
       "\u001b[5;1H\u001b[48;2;38;38;38m    \u001b[0m\u001b[38;2;226;226;226;48;2;38;38;38m                                                                                                             \u001b[0m\n",
       "\u001b[6;1H\u001b[48;2;38;38;38m    \u001b[0m\u001b[38;2;226;226;226;48;2;38;38;38mStarting from scratch                                                                                        \u001b[0m\n",
       "\u001b[7;1H\u001b[48;2;38;38;38m    \u001b[0m\u001b[38;2;226;226;226;48;2;38;38;38m                                                                                                             \u001b[0m\n",
       "\u001b[8;1H\u001b[48;2;38;38;38m    \u001b[0m\u001b[1;38;2;0;255;255;48;2;38;38;38m(1/1)\u001b[0m\u001b[38;2;0;255;255;48;2;38;38;38m Processing: B2--W00026--P00001--Z00000--T00000--dapi.tif\u001b[0m\u001b[38;2;226;226;226;48;2;38;38;38m                                               \u001b[0m\n",
       "\u001b[9;1H\u001b[48;2;38;38;38m    \u001b[0m\u001b[38;2;226;226;226;48;2;38;38;38m                                                                                                             \u001b[0m\n",
       "\u001b[10;1H\u001b[48;2;38;38;38m    \u001b[0m\u001b[38;2;221;238;221;48;2;0;128;0mResults have been stored\u001b[0m\u001b[38;2;226;226;226;48;2;38;38;38m                                                                                     \u001b[0m\n",
       "\u001b[11;1H\u001b[48;2;38;38;38m                                                                                                                 \u001b[0m\n",
       "\u001b[12;1H\u001b[38;2;225;225;225;48;2;30;30;30m                                                                                                                 \u001b[0m\n",
       "\u001b[13;1H\u001b[38;2;225;225;225;48;2;30;30;30m                                                                                                                 \u001b[0m\n",
       "\u001b[14;1H\u001b[38;2;225;225;225;48;2;30;30;30m                                                                                                                 \u001b[0m\n",
       "\u001b[15;1H\u001b[38;2;225;225;225;48;2;30;30;30m                                                                                                                 \u001b[0m\n",
       "\u001b[16;1H\u001b[38;2;225;225;225;48;2;30;30;30m                                                                                                                 \u001b[0m\n",
       "\u001b[17;1H\u001b[38;2;225;225;225;48;2;30;30;30m                                                                                                                 \u001b[0m\n",
       "\u001b[18;1H\u001b[38;2;225;225;225;48;2;30;30;30m                                                                                                                 \u001b[0m\n",
       "\u001b[19;1H\u001b[38;2;225;225;225;48;2;30;30;30m                                                                                                                 \u001b[0m\n",
       "\u001b[20;1H\u001b[38;2;225;225;225;48;2;30;30;30m                                                                                                                 \u001b[0m\n",
       "\u001b[21;1H\u001b[38;2;225;225;225;48;2;30;30;30m                                                                                                                 \u001b[0m\n",
       "\u001b[22;1H\u001b[38;2;225;225;225;48;2;30;30;30m                                                                                                                 \u001b[0m\n",
       "\u001b[23;1H\u001b[38;2;225;225;225;48;2;30;30;30m                                                                                                                 \u001b[0m\n",
       "\u001b[24;1H\u001b[1;38;2;254;166;43;48;2;36;41;47m ^c \u001b[0m\u001b[38;2;167;169;171;48;2;36;41;47mCancel \u001b[0m\u001b[1;38;2;254;166;43;48;2;36;41;47m ESC \u001b[0m\u001b[38;2;167;169;171;48;2;36;41;47mClose \u001b[0m\u001b[38;2;226;227;227;48;2;36;41;47m                                                                                           \u001b[0m"
      ]
     },
     "metadata": {},
     "output_type": "display_data"
    }
   ],
   "source": [
    "while app.batch.task_process is not None:\n",
    "    await pilot.pause(1)\n",
    "app.save_screenshot(tempdir_path / f'{uuid.uuid1()}.svg');"
   ]
  }
 ],
 "metadata": {
  "kernelspec": {
   "display_name": ".venv",
   "language": "python",
   "name": "python3"
  },
  "language_info": {
   "codemirror_mode": {
    "name": "ipython",
    "version": 3
   },
   "file_extension": ".py",
   "mimetype": "text/x-python",
   "name": "python",
   "nbconvert_exporter": "python",
   "pygments_lexer": "ipython3",
   "version": "3.11.0"
  }
 },
 "nbformat": 4,
 "nbformat_minor": 2
}
